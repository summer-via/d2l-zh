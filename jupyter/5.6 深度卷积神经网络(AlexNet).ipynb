{
 "cells": [
  {
   "cell_type": "code",
   "execution_count": 1,
   "metadata": {},
   "outputs": [],
   "source": [
    "import d2lzh as d2l\n",
    "from mxnet import gluon, init, nd\n",
    "from mxnet.gluon import data as gdata, nn\n",
    "import os\n",
    "import sys"
   ]
  },
  {
   "cell_type": "code",
   "execution_count": 3,
   "metadata": {},
   "outputs": [],
   "source": [
    "net = nn.Sequential()\n",
    "net.add(nn.Conv2D(96, kernel_size=11, strides=4, activation='relu'),\n",
    "       nn.MaxPool2D(pool_size=3, strides=2),\n",
    "       nn.Conv2D(256, kernel_size=5, padding=2, activation='relu'),\n",
    "       nn.MaxPool2D(pool_size=3, strides=2),\n",
    "       nn.Conv2D(384, kernel_size=3, padding=1, activation='relu'),\n",
    "       nn.Conv2D(384, kernel_size=3, padding=1, activation='relu'),\n",
    "       nn.Conv2D(256, kernel_size=3, padding=1,activation='relu'),\n",
    "       nn.MaxPool2D(pool_size=3, strides=2),\n",
    "       nn.Dense(4096, activation='relu'), nn.Dropout(0.5),\n",
    "       nn.Dense(4096, activation='relu'), nn.Dropout(0.5),\n",
    "       nn.Dense(10))"
   ]
  },
  {
   "cell_type": "code",
   "execution_count": 4,
   "metadata": {},
   "outputs": [
    {
     "name": "stdout",
     "output_type": "stream",
     "text": [
      "conv4 output shape\t (1, 96, 54, 54)\n",
      "pool2 output shape\t (1, 96, 26, 26)\n",
      "conv5 output shape\t (1, 256, 26, 26)\n",
      "pool3 output shape\t (1, 256, 12, 12)\n",
      "conv6 output shape\t (1, 384, 12, 12)\n",
      "conv7 output shape\t (1, 384, 12, 12)\n",
      "conv8 output shape\t (1, 256, 12, 12)\n",
      "pool4 output shape\t (1, 256, 5, 5)\n",
      "dense0 output shape\t (1, 4096)\n",
      "dropout0 output shape\t (1, 4096)\n",
      "dense1 output shape\t (1, 4096)\n",
      "dropout1 output shape\t (1, 4096)\n",
      "dense2 output shape\t (1, 10)\n"
     ]
    }
   ],
   "source": [
    "X = nd.random.uniform(shape=(1, 1, 224, 224))\n",
    "net.initialize()\n",
    "for layer in net:\n",
    "    X = layer(X)\n",
    "    print(layer.name, 'output shape\\t', X.shape)"
   ]
  },
  {
   "cell_type": "code",
   "execution_count": 5,
   "metadata": {},
   "outputs": [],
   "source": [
    "\n",
    "batch_size = 128\n",
    "# 如出现“out of memory”的报错信息，可减小batch_size或resize\n",
    "train_iter, test_iter = d2l.load_data_fashion_mnist(batch_size, resize=224)"
   ]
  },
  {
   "cell_type": "code",
   "execution_count": 6,
   "metadata": {},
   "outputs": [
    {
     "name": "stderr",
     "output_type": "stream",
     "text": [
      "/opt/miniconda3/envs/gluon/lib/python3.6/site-packages/mxnet/gluon/parameter.py:862: UserWarning: Parameter 'conv4_weight' is already initialized, ignoring. Set force_reinit=True to re-initialize.\n",
      "  v.initialize(None, ctx, init, force_reinit=force_reinit)\n",
      "/opt/miniconda3/envs/gluon/lib/python3.6/site-packages/mxnet/gluon/parameter.py:862: UserWarning: Parameter 'conv4_bias' is already initialized, ignoring. Set force_reinit=True to re-initialize.\n",
      "  v.initialize(None, ctx, init, force_reinit=force_reinit)\n",
      "/opt/miniconda3/envs/gluon/lib/python3.6/site-packages/mxnet/gluon/parameter.py:862: UserWarning: Parameter 'conv5_weight' is already initialized, ignoring. Set force_reinit=True to re-initialize.\n",
      "  v.initialize(None, ctx, init, force_reinit=force_reinit)\n",
      "/opt/miniconda3/envs/gluon/lib/python3.6/site-packages/mxnet/gluon/parameter.py:862: UserWarning: Parameter 'conv5_bias' is already initialized, ignoring. Set force_reinit=True to re-initialize.\n",
      "  v.initialize(None, ctx, init, force_reinit=force_reinit)\n",
      "/opt/miniconda3/envs/gluon/lib/python3.6/site-packages/mxnet/gluon/parameter.py:862: UserWarning: Parameter 'conv6_weight' is already initialized, ignoring. Set force_reinit=True to re-initialize.\n",
      "  v.initialize(None, ctx, init, force_reinit=force_reinit)\n",
      "/opt/miniconda3/envs/gluon/lib/python3.6/site-packages/mxnet/gluon/parameter.py:862: UserWarning: Parameter 'conv6_bias' is already initialized, ignoring. Set force_reinit=True to re-initialize.\n",
      "  v.initialize(None, ctx, init, force_reinit=force_reinit)\n",
      "/opt/miniconda3/envs/gluon/lib/python3.6/site-packages/mxnet/gluon/parameter.py:862: UserWarning: Parameter 'conv7_weight' is already initialized, ignoring. Set force_reinit=True to re-initialize.\n",
      "  v.initialize(None, ctx, init, force_reinit=force_reinit)\n",
      "/opt/miniconda3/envs/gluon/lib/python3.6/site-packages/mxnet/gluon/parameter.py:862: UserWarning: Parameter 'conv7_bias' is already initialized, ignoring. Set force_reinit=True to re-initialize.\n",
      "  v.initialize(None, ctx, init, force_reinit=force_reinit)\n",
      "/opt/miniconda3/envs/gluon/lib/python3.6/site-packages/mxnet/gluon/parameter.py:862: UserWarning: Parameter 'conv8_weight' is already initialized, ignoring. Set force_reinit=True to re-initialize.\n",
      "  v.initialize(None, ctx, init, force_reinit=force_reinit)\n",
      "/opt/miniconda3/envs/gluon/lib/python3.6/site-packages/mxnet/gluon/parameter.py:862: UserWarning: Parameter 'conv8_bias' is already initialized, ignoring. Set force_reinit=True to re-initialize.\n",
      "  v.initialize(None, ctx, init, force_reinit=force_reinit)\n",
      "/opt/miniconda3/envs/gluon/lib/python3.6/site-packages/mxnet/gluon/parameter.py:862: UserWarning: Parameter 'dense0_weight' is already initialized, ignoring. Set force_reinit=True to re-initialize.\n",
      "  v.initialize(None, ctx, init, force_reinit=force_reinit)\n",
      "/opt/miniconda3/envs/gluon/lib/python3.6/site-packages/mxnet/gluon/parameter.py:862: UserWarning: Parameter 'dense0_bias' is already initialized, ignoring. Set force_reinit=True to re-initialize.\n",
      "  v.initialize(None, ctx, init, force_reinit=force_reinit)\n",
      "/opt/miniconda3/envs/gluon/lib/python3.6/site-packages/mxnet/gluon/parameter.py:862: UserWarning: Parameter 'dense1_weight' is already initialized, ignoring. Set force_reinit=True to re-initialize.\n",
      "  v.initialize(None, ctx, init, force_reinit=force_reinit)\n",
      "/opt/miniconda3/envs/gluon/lib/python3.6/site-packages/mxnet/gluon/parameter.py:862: UserWarning: Parameter 'dense1_bias' is already initialized, ignoring. Set force_reinit=True to re-initialize.\n",
      "  v.initialize(None, ctx, init, force_reinit=force_reinit)\n",
      "/opt/miniconda3/envs/gluon/lib/python3.6/site-packages/mxnet/gluon/parameter.py:862: UserWarning: Parameter 'dense2_weight' is already initialized, ignoring. Set force_reinit=True to re-initialize.\n",
      "  v.initialize(None, ctx, init, force_reinit=force_reinit)\n",
      "/opt/miniconda3/envs/gluon/lib/python3.6/site-packages/mxnet/gluon/parameter.py:862: UserWarning: Parameter 'dense2_bias' is already initialized, ignoring. Set force_reinit=True to re-initialize.\n",
      "  v.initialize(None, ctx, init, force_reinit=force_reinit)\n"
     ]
    },
    {
     "name": "stdout",
     "output_type": "stream",
     "text": [
      "training on cpu(0)\n",
      "epoch 1, loss nan, train acc 0.100, test acc 0.100, time 3444.9 sec\n",
      "epoch 2, loss nan, train acc 0.100, test acc 0.100, time 5796.2 sec\n",
      "epoch 3, loss nan, train acc 0.100, test acc 0.100, time 5307.9 sec\n",
      "epoch 4, loss nan, train acc 0.100, test acc 0.100, time 5329.2 sec\n",
      "epoch 5, loss nan, train acc 0.100, test acc 0.100, time 5320.4 sec\n"
     ]
    }
   ],
   "source": [
    "lr, num_epochs, ctx = 0.01, 5, d2l.try_gpu()\n",
    "net.initialize()\n",
    "trainer = gluon.Trainer(net.collect_params(), 'sgd', {'learning_rate': lr})\n",
    "d2l.train_ch5(net, train_iter, test_iter, batch_size, trainer, ctx, num_epochs)"
   ]
  }
 ],
 "metadata": {
  "kernelspec": {
   "display_name": "Python 3",
   "language": "python",
   "name": "python3"
  },
  "language_info": {
   "codemirror_mode": {
    "name": "ipython",
    "version": 3
   },
   "file_extension": ".py",
   "mimetype": "text/x-python",
   "name": "python",
   "nbconvert_exporter": "python",
   "pygments_lexer": "ipython3",
   "version": "3.6.10"
  }
 },
 "nbformat": 4,
 "nbformat_minor": 4
}
